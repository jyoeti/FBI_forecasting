{
  "nbformat": 4,
  "nbformat_minor": 0,
  "metadata": {
    "colab": {
      "private_outputs": true,
      "provenance": [],
      "collapsed_sections": [
        "gCX9965dhzqZ",
        "gIfDvo9L0UH2"
      ],
      "include_colab_link": true
    },
    "kernelspec": {
      "name": "python3",
      "display_name": "Python 3"
    },
    "language_info": {
      "name": "python"
    }
  },
  "cells": [
    {
      "cell_type": "markdown",
      "metadata": {
        "id": "view-in-github",
        "colab_type": "text"
      },
      "source": [
        "<a href=\"https://colab.research.google.com/github/jyoeti/FBI_forecasting/blob/main/FBI_data_.ipynb\" target=\"_parent\"><img src=\"https://colab.research.google.com/assets/colab-badge.svg\" alt=\"Open In Colab\"/></a>"
      ]
    },
    {
      "cell_type": "markdown",
      "source": [
        "# **Project Name**    -    FBI Time series forecasting\n",
        " end to end Project\n",
        "\n"
      ],
      "metadata": {
        "id": "vncDsAP0Gaoa"
      }
    },
    {
      "cell_type": "markdown",
      "source": [
        "\n",
        "\n",
        "```\n",
        "# This is formatted as code\n",
        "```\n",
        "\n",
        "##### **Project Type**    - Regression\n",
        "##### **Contribution**    - Individual\n",
        "##### **Team Member 1 -**  - Jyoti anand\n"
      ],
      "metadata": {
        "id": "beRrZCGUAJYm"
      }
    },
    {
      "cell_type": "markdown",
      "source": [
        "# **Project Summary -**"
      ],
      "metadata": {
        "id": "FJNUwmbgGyua"
      }
    },
    {
      "cell_type": "markdown",
      "source": [
        "To predict future crime trends based on historical FBI crime data using time series forecasting techniques.\n",
        "\n",
        "Dataset:\n",
        "\n",
        "Historical crime data (e.g., monthly/annual reports on burglary, assault, cybercrime, etc.).\n",
        "\n",
        "Variables: Date, crime type, location, number of incidents.\n",
        "Approach:\n",
        "\n",
        "Data Preprocessing: Handling missing values, feature engineering.\n",
        "\n",
        "Exploratory Data Analysis (EDA): Understanding crime patterns.\n",
        "\n",
        "Time Series Modeling: Using ARIMA, LSTM, or Prophet for prediction.\n",
        "\n",
        "Model Evaluation: Using RMSE, MAE to measure performance."
      ],
      "metadata": {
        "id": "F6v_1wHtG2nS"
      }
    },
    {
      "cell_type": "markdown",
      "source": [
        "# **GitHub Link -**"
      ],
      "metadata": {
        "id": "w6K7xa23Elo4"
      }
    },
    {
      "cell_type": "markdown",
      "source": [
        "https://github.com/jyoeti"
      ],
      "metadata": {
        "id": "h1o69JH3Eqqn"
      }
    },
    {
      "cell_type": "markdown",
      "source": [
        "# **Problem Statement**\n"
      ],
      "metadata": {
        "id": "yQaldy8SH6Dl"
      }
    },
    {
      "cell_type": "markdown",
      "source": [
        "Law enforcement agencies need accurate crime rate predictions to allocate resources effectively and enhance public safety. This project aims to analyze historical FBI crime data and develop a time series forecasting model to predict future crime trends. By leveraging statistical and machine learning techniques, the model will help in crime prevention, policy planning, and decision-making for law enforcement agencies."
      ],
      "metadata": {
        "id": "DpeJGUA3kjGy"
      }
    },
    {
      "cell_type": "markdown",
      "source": [
        "# **General Guidelines** : -  "
      ],
      "metadata": {
        "id": "mDgbUHAGgjLW"
      }
    },
    {
      "cell_type": "markdown",
      "source": [
        "1.   Well-structured, formatted, and commented code is required.\n",
        "2.   Exception Handling, Production Grade Code & Deployment Ready Code will be a plus. Those students will be awarded some additional credits.\n",
        "     \n",
        "     The additional credits will have advantages over other students during Star Student selection.\n",
        "       \n",
        "             [ Note: - Deployment Ready Code is defined as, the whole .ipynb notebook should be executable in one go\n",
        "                       without a single error logged. ]\n",
        "\n",
        "3.   Each and every logic should have proper comments.\n",
        "4. You may add as many number of charts you want. Make Sure for each and every chart the following format should be answered.\n",
        "        \n",
        "\n",
        "```\n",
        "# Chart visualization code\n",
        "```\n",
        "            \n",
        "\n",
        "*   Why did you pick the specific chart?\n",
        "*   What is/are the insight(s) found from the chart?\n",
        "* Will the gained insights help creating a positive business impact?\n",
        "Are there any insights that lead to negative growth? Justify with specific reason.\n",
        "\n",
        "5. You have to create at least 15 logical & meaningful charts having important insights.\n",
        "\n",
        "\n",
        "[ Hints : - Do the Vizualization in  a structured way while following \"UBM\" Rule.\n",
        "\n",
        "U - Univariate Analysis,\n",
        "\n",
        "B - Bivariate Analysis (Numerical - Categorical, Numerical - Numerical, Categorical - Categorical)\n",
        "\n",
        "M - Multivariate Analysis\n",
        " ]\n",
        "\n",
        "\n",
        "\n",
        "\n",
        "\n",
        "6. You may add more ml algorithms for model creation. Make sure for each and every algorithm, the following format should be answered.\n",
        "\n",
        "\n",
        "*   Explain the ML Model used and it's performance using Evaluation metric Score Chart.\n",
        "\n",
        "\n",
        "*   Cross- Validation & Hyperparameter Tuning\n",
        "\n",
        "*   Have you seen any improvement? Note down the improvement with updates Evaluation metric Score Chart.\n",
        "\n",
        "*   Explain each evaluation metric's indication towards business and the business impact pf the ML model used.\n",
        "\n",
        "\n",
        "\n",
        "\n",
        "\n",
        "\n",
        "\n",
        "\n",
        "\n",
        "\n",
        "\n",
        "\n",
        "\n",
        "\n",
        "\n",
        "\n",
        "\n",
        "\n"
      ],
      "metadata": {
        "id": "ZrxVaUj-hHfC"
      }
    },
    {
      "cell_type": "markdown",
      "source": [
        "# ***Let's Begin !***"
      ],
      "metadata": {
        "id": "O_i_v8NEhb9l"
      }
    },
    {
      "cell_type": "markdown",
      "source": [
        "## ***1. Know Your Data***"
      ],
      "metadata": {
        "id": "HhfV-JJviCcP"
      }
    },
    {
      "cell_type": "markdown",
      "source": [
        "### Import Libraries"
      ],
      "metadata": {
        "id": "Y3lxredqlCYt"
      }
    },
    {
      "cell_type": "code",
      "source": [
        "# Import Libraries\n",
        "import pandas as pd\n",
        "import numpy as np\n",
        "import matplotlib.pyplot as plt\n",
        "import seaborn as sns\n",
        "from statsmodels.tsa.arima.model import ARIMA\n",
        "from sklearn.metrics import mean_absolute_error, mean_squared_error\n",
        "from datetime import datetime\n",
        "import warnings\n",
        "warnings.filterwarnings('ignore')"
      ],
      "metadata": {
        "id": "M8Vqi-pPk-HR"
      },
      "execution_count": null,
      "outputs": []
    },
    {
      "cell_type": "markdown",
      "source": [
        "### Dataset Loading"
      ],
      "metadata": {
        "id": "3RnN4peoiCZX"
      }
    },
    {
      "cell_type": "code",
      "source": [
        "# Load Dataset\n",
        "train_data = pd.read_excel(\"/content/Train.xlsx\", parse_dates=['Date'])"
      ],
      "metadata": {
        "id": "4CkvbW_SlZ_R"
      },
      "execution_count": null,
      "outputs": []
    },
    {
      "cell_type": "markdown",
      "source": [
        "### Dataset First View"
      ],
      "metadata": {
        "id": "x71ZqKXriCWQ"
      }
    },
    {
      "cell_type": "code",
      "source": [
        "# Dataset First Look\n",
        "train_data.head()"
      ],
      "metadata": {
        "id": "LWNFOSvLl09H"
      },
      "execution_count": null,
      "outputs": []
    },
    {
      "cell_type": "markdown",
      "source": [
        "### Dataset Rows & Columns count"
      ],
      "metadata": {
        "id": "7hBIi_osiCS2"
      }
    },
    {
      "cell_type": "code",
      "source": [
        "# Dataset Rows & Columns count\n",
        "train_data.shape"
      ],
      "metadata": {
        "id": "Kllu7SJgmLij"
      },
      "execution_count": null,
      "outputs": []
    },
    {
      "cell_type": "markdown",
      "source": [
        "### Dataset Information"
      ],
      "metadata": {
        "id": "JlHwYmJAmNHm"
      }
    },
    {
      "cell_type": "code",
      "source": [
        "# Dataset Info\n",
        "train_data.info()"
      ],
      "metadata": {
        "id": "e9hRXRi6meOf"
      },
      "execution_count": null,
      "outputs": []
    },
    {
      "cell_type": "markdown",
      "source": [
        "#### Duplicate Values"
      ],
      "metadata": {
        "id": "35m5QtbWiB9F"
      }
    },
    {
      "cell_type": "code",
      "source": [
        "# Dataset Duplicate Value Count\n",
        "train_data.duplicated().sum()"
      ],
      "metadata": {
        "id": "1sLdpKYkmox0"
      },
      "execution_count": null,
      "outputs": []
    },
    {
      "cell_type": "markdown",
      "source": [
        "#### Missing Values/Null Values"
      ],
      "metadata": {
        "id": "PoPl-ycgm1ru"
      }
    },
    {
      "cell_type": "code",
      "source": [
        "# Missing Values/Null Values Count\n",
        "train_data.isnull().sum()"
      ],
      "metadata": {
        "id": "GgHWkxvamxVg"
      },
      "execution_count": null,
      "outputs": []
    },
    {
      "cell_type": "code",
      "source": [
        "# Visualizing the missing values\n",
        "train_data.isnull().sum().plot(kind='bar')"
      ],
      "metadata": {
        "id": "3q5wnI3om9sJ"
      },
      "execution_count": null,
      "outputs": []
    },
    {
      "cell_type": "markdown",
      "source": [
        "### What did you know about your dataset?"
      ],
      "metadata": {
        "id": "H0kj-8xxnORC"
      }
    },
    {
      "cell_type": "markdown",
      "source": [
        "Answer Here"
      ],
      "metadata": {
        "id": "gfoNAAC-nUe_"
      }
    },
    {
      "cell_type": "code",
      "source": [
        "# Aggregate crime incidents per month and year\n",
        "crime_time_series = train_data.groupby(['YEAR', 'MONTH']).size().reset_index(name='Incident_Counts')"
      ],
      "metadata": {
        "id": "fGaeXVLeQtEu"
      },
      "execution_count": null,
      "outputs": []
    },
    {
      "cell_type": "code",
      "source": [
        "# Convert to datetime format\n",
        "crime_time_series['Date'] = pd.to_datetime(crime_time_series[['YEAR', 'MONTH']].assign(DAY=1))\n",
        "crime_time_series.set_index('Date', inplace=True)\n",
        "crime_time_series = crime_time_series[['Incident_Counts']]"
      ],
      "metadata": {
        "id": "YOGfsz-TQvGm"
      },
      "execution_count": null,
      "outputs": []
    },
    {
      "cell_type": "markdown",
      "source": [
        "## ***2. Understanding Your Variables***"
      ],
      "metadata": {
        "id": "nA9Y7ga8ng1Z"
      }
    },
    {
      "cell_type": "code",
      "source": [
        "# Dataset Columns\n",
        "crime_time_series.columns"
      ],
      "metadata": {
        "id": "j7xfkqrt5Ag5"
      },
      "execution_count": null,
      "outputs": []
    },
    {
      "cell_type": "code",
      "source": [
        "# Dataset Describe\n",
        "crime_time_series.describe()"
      ],
      "metadata": {
        "id": "DnOaZdaE5Q5t"
      },
      "execution_count": null,
      "outputs": []
    },
    {
      "cell_type": "markdown",
      "source": [
        "### Variables Description"
      ],
      "metadata": {
        "id": "PBTbrJXOngz2"
      }
    },
    {
      "cell_type": "markdown",
      "source": [
        "Answer Here"
      ],
      "metadata": {
        "id": "aJV4KIxSnxay"
      }
    },
    {
      "cell_type": "markdown",
      "source": [
        "### Check Unique Values for each variable."
      ],
      "metadata": {
        "id": "u3PMJOP6ngxN"
      }
    },
    {
      "cell_type": "code",
      "source": [
        "# Check Unique Values for each variable.\n",
        "crime_time_series.nunique()"
      ],
      "metadata": {
        "id": "zms12Yq5n-jE"
      },
      "execution_count": null,
      "outputs": []
    },
    {
      "cell_type": "markdown",
      "source": [
        "## 3. ***Data Wrangling***"
      ],
      "metadata": {
        "id": "dauF4eBmngu3"
      }
    },
    {
      "cell_type": "markdown",
      "source": [
        "### Data Wrangling Code"
      ],
      "metadata": {
        "id": "bKJF3rekwFvQ"
      }
    },
    {
      "cell_type": "code",
      "source": [
        "# Write your code to make your dataset analysis ready.\n",
        "crime_time_series.head()"
      ],
      "metadata": {
        "id": "wk-9a2fpoLcV"
      },
      "execution_count": null,
      "outputs": []
    },
    {
      "cell_type": "markdown",
      "source": [
        "## ***4. Data Vizualization, Storytelling & Experimenting with charts : Understand the relationships between variables***"
      ],
      "metadata": {
        "id": "GF8Ens_Soomf"
      }
    },
    {
      "cell_type": "markdown",
      "source": [
        "#### Chart - 1"
      ],
      "metadata": {
        "id": "0wOQAZs5pc--"
      }
    },
    {
      "cell_type": "code",
      "source": [
        "# Chart - 1 visualization code\n",
        "# Plot crime trends\n",
        "plt.figure(figsize=(12, 5))\n",
        "sns.lineplot(data=crime_time_series, x=crime_time_series.index, y='Incident_Counts')\n",
        "plt.title('Crime Trends Over Time')\n",
        "plt.xlabel('Date')\n",
        "plt.ylabel('Incident Counts')\n",
        "plt.show()"
      ],
      "metadata": {
        "id": "7v_ESjsspbW7"
      },
      "execution_count": null,
      "outputs": []
    },
    {
      "cell_type": "markdown",
      "source": [
        "#### Chart - 2"
      ],
      "metadata": {
        "id": "KSlN3yHqYklG"
      }
    },
    {
      "cell_type": "code",
      "source": [
        "# Chart - 2 visualization code\n",
        "plt.figure(figsize=(12, 5))\n",
        "monthly_crime = train_data.groupby(['YEAR', 'MONTH']).size().reset_index(name='Incident_Counts')\n",
        "monthly_crime['Date'] = pd.to_datetime(monthly_crime[['YEAR', 'MONTH']].assign(DAY=1))\n",
        "\n",
        "sns.lineplot(x='Date', y='Incident_Counts', data=monthly_crime)\n",
        "plt.title(\"Monthly Crime Trends\")\n",
        "plt.xlabel(\"Date\")\n",
        "plt.ylabel(\"Number of Crimes\")\n",
        "plt.grid(True)\n",
        "plt.show()\n"
      ],
      "metadata": {
        "id": "R4YgtaqtYklH"
      },
      "execution_count": null,
      "outputs": []
    },
    {
      "cell_type": "markdown",
      "source": [
        "#### Chart - 3"
      ],
      "metadata": {
        "id": "EM7whBJCYoAo"
      }
    },
    {
      "cell_type": "code",
      "source": [
        "# Chart - 3 visualization code\n",
        "plt.figure(figsize=(14,6))\n",
        "sns.countplot(data=train_data, y='TYPE', order=train_data['TYPE'].value_counts().index)\n",
        "plt.title('Crime Count by Type')\n",
        "plt.xlabel('Number of Incidents')\n",
        "plt.ylabel('Crime Type')\n",
        "plt.show()\n"
      ],
      "metadata": {
        "id": "t6GMdE67YoAp"
      },
      "execution_count": null,
      "outputs": []
    },
    {
      "cell_type": "code",
      "source": [
        "# Chart - 4 visualization code\n",
        "plt.figure(figsize=(12,5))\n",
        "sns.histplot(train_data['HOUR'], bins=24, kde=True)\n",
        "plt.title('Crime Distribution by Hour')\n",
        "plt.xlabel('Hour of the Day')\n",
        "plt.ylabel('Crime Count')\n",
        "plt.xticks(range(0,24))\n",
        "plt.show()\n"
      ],
      "metadata": {
        "id": "irlUoxc8YrdO"
      },
      "execution_count": null,
      "outputs": []
    },
    {
      "cell_type": "markdown",
      "source": [
        "#### Chart - 5"
      ],
      "metadata": {
        "id": "bamQiAODYuh1"
      }
    },
    {
      "cell_type": "code",
      "source": [
        "# Chart - 5 visualization code\n",
        "hourly_counts = train_data.groupby(['HOUR', 'TYPE']).size().unstack().fillna(0)\n",
        "\n",
        "plt.figure(figsize=(14,6))\n",
        "sns.heatmap(hourly_counts.T, cmap=\"YlOrBr\")\n",
        "plt.title(\"Crime by Hour and Type\")\n",
        "plt.xlabel(\"Hour of Day\")\n",
        "plt.ylabel(\"Crime Type\")\n",
        "plt.show()\n"
      ],
      "metadata": {
        "id": "TIJwrbroYuh3"
      },
      "execution_count": null,
      "outputs": []
    },
    {
      "cell_type": "markdown",
      "source": [
        "#### Chart - 6"
      ],
      "metadata": {
        "id": "OH-pJp9IphqM"
      }
    },
    {
      "cell_type": "code",
      "source": [
        "# Chart - 6 visualization code\n",
        "plt.figure(figsize=(10,5))\n",
        "sns.boxplot(data=train_data, x='MONTH', y='YEAR', orient='h')\n",
        "plt.title('Monthly Crime Seasonality (All Years)')\n",
        "plt.xlabel('Month')\n",
        "plt.ylabel('Year')\n",
        "plt.show()\n"
      ],
      "metadata": {
        "id": "kuRf4wtuphqN"
      },
      "execution_count": null,
      "outputs": []
    },
    {
      "cell_type": "markdown",
      "source": [
        "#### Chart - 7"
      ],
      "metadata": {
        "id": "PIIx-8_IphqN"
      }
    },
    {
      "cell_type": "code",
      "source": [
        "# Chart - 7 visualization code\n",
        "heatmap_data = train_data.groupby(['HOUR', 'DAY']).size().unstack(fill_value=0)\n",
        "\n",
        "plt.figure(figsize=(12,6))\n",
        "sns.heatmap(heatmap_data, cmap='YlOrRd')\n",
        "plt.title('Heatmap of Crime by Hour and Day')\n",
        "plt.xlabel('Day of Month')\n",
        "plt.ylabel('Hour of Day')\n",
        "plt.show()\n",
        "\n"
      ],
      "metadata": {
        "id": "lqAIGUfyphqO"
      },
      "execution_count": null,
      "outputs": []
    },
    {
      "cell_type": "markdown",
      "source": [
        "#### Chart - 8"
      ],
      "metadata": {
        "id": "BZR9WyysphqO"
      }
    },
    {
      "cell_type": "code",
      "source": [
        "# Chart - 8 visualization code\n",
        "plt.figure(figsize=(10,6))\n",
        "sns.scatterplot(x='Longitude', y='Latitude', hue='TYPE', data=train_data, alpha=0.5)\n",
        "plt.title(\"Crime Locations by Type\")\n",
        "plt.xlabel(\"Longitude\")\n",
        "plt.ylabel(\"Latitude\")\n",
        "plt.legend(loc='upper right', bbox_to_anchor=(1.3, 1))\n",
        "plt.show()\n"
      ],
      "metadata": {
        "id": "TdPTWpAVphqO"
      },
      "execution_count": null,
      "outputs": []
    },
    {
      "cell_type": "markdown",
      "source": [
        "#### Chart - 9"
      ],
      "metadata": {
        "id": "YJ55k-q6phqO"
      }
    },
    {
      "cell_type": "code",
      "source": [
        "# Chart - 9 visualization code\n",
        "import folium\n",
        "\n",
        "# Plot 500 recent crimes on map\n",
        "map_data = train_data[['Latitude', 'Longitude']].dropna().sample(500)\n",
        "\n",
        "crime_map = folium.Map(location=[map_data.Latitude.mean(), map_data.Longitude.mean()], zoom_start=12)\n",
        "for _, row in map_data.iterrows():\n",
        "    folium.CircleMarker(location=[row['Latitude'], row['Longitude']],\n",
        "                        radius=3, color='red', fill=True).add_to(crime_map)\n",
        "crime_map.save('crime_map.html')\n"
      ],
      "metadata": {
        "id": "B2aS4O1ophqO"
      },
      "execution_count": null,
      "outputs": []
    },
    {
      "cell_type": "markdown",
      "source": [
        "#### Chart - 14 - Correlation Heatmap"
      ],
      "metadata": {
        "id": "NC_X3p0fY2L0"
      }
    },
    {
      "cell_type": "code",
      "source": [
        "# Correlation Heatmap visualization code\n",
        "# Convert categorical to numeric\n",
        "df_corr = train_data.copy()\n",
        "df_corr['TYPE_CODE'] = df_corr['TYPE'].astype('category').cat.codes\n",
        "\n",
        "# Correlation heatmap\n",
        "corr = df_corr[['HOUR', 'MINUTE', 'TYPE_CODE', 'Latitude', 'Longitude']].corr()\n",
        "\n",
        "plt.figure(figsize=(8,6))\n",
        "sns.heatmap(corr, annot=True, cmap='coolwarm')\n",
        "plt.title(\"Correlation Between Features\")\n",
        "plt.show()\n"
      ],
      "metadata": {
        "id": "xyC9zolEZNRQ"
      },
      "execution_count": null,
      "outputs": []
    },
    {
      "cell_type": "markdown",
      "source": [
        "#### Chart - 15 - Pair Plot"
      ],
      "metadata": {
        "id": "q29F0dvdveiT"
      }
    },
    {
      "cell_type": "code",
      "source": [
        "# Pair Plot visualization code\n",
        "sns.pairplot(df_corr[['HOUR', 'MINUTE', 'TYPE_CODE', 'Latitude', 'Longitude']])\n",
        "plt.show()"
      ],
      "metadata": {
        "id": "o58-TEIhveiU"
      },
      "execution_count": null,
      "outputs": []
    },
    {
      "cell_type": "markdown",
      "source": [
        "## ***5. Hypothesis Testing***"
      ],
      "metadata": {
        "id": "g-ATYxFrGrvw"
      }
    },
    {
      "cell_type": "markdown",
      "source": [
        "### Based on your chart experiments, define three hypothetical statements from the dataset. In the next three questions, perform hypothesis testing to obtain final conclusion about the statements through your code and statistical testing."
      ],
      "metadata": {
        "id": "Yfr_Vlr8HBkt"
      }
    },
    {
      "cell_type": "markdown",
      "source": [
        "Answer Here. ![image.png](data:image/png;base64,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)"
      ],
      "metadata": {
        "id": "-7MS06SUHkB-"
      }
    },
    {
      "cell_type": "markdown",
      "source": [
        "### Hypothetical Statement - 1"
      ],
      "metadata": {
        "id": "8yEUt7NnHlrM"
      }
    },
    {
      "cell_type": "markdown",
      "source": [
        "#### 1. State Your research hypothesis as a null hypothesis and alternate hypothesis."
      ],
      "metadata": {
        "id": "tEA2Xm5dHt1r"
      }
    },
    {
      "cell_type": "markdown",
      "source": [
        "Answer Here. Crime rates are higher at night (6 PM - 6 AM) compared to daytime (6 AM - 6 PM).\n",
        "\n",
        "Null Hypothesis (H₀):\n",
        "There is no significant difference in crime rates between nighttime and daytime.\n",
        "\n",
        "Alternative Hypothesis (H₁):\n",
        "Crime rates are significantly higher at night compared to daytime."
      ],
      "metadata": {
        "id": "HI9ZP0laH0D-"
      }
    },
    {
      "cell_type": "code",
      "source": [
        "# Perform Statistical Test to obtain P-Value\n",
        "from scipy.stats import pearsonr\n",
        "\n",
        "# Compute Pearson correlation and p-value\n",
        "corr, p_value = pearsonr(train_data[\"X\"], train_data[\"Longitude\"])\n",
        "\n",
        "print(f\"Pearson correlation coefficient: {corr:.4f}\")\n",
        "print(f\"P-value: {p_value}\")\n",
        "\n",
        "# Interpretation\n",
        "if p_value < 0.05 and corr > 0:\n",
        "    print(\"Reject Null Hypothesis and accept Alternate hypothesis.\")\n",
        "else:\n",
        "    print(\"No evidence to reject Null Hypothesis.\")"
      ],
      "metadata": {
        "id": "urkCy0ntBirC"
      },
      "execution_count": null,
      "outputs": []
    },
    {
      "cell_type": "markdown",
      "source": [
        "Which statistical test have you done to obtain P-Value?"
      ],
      "metadata": {
        "id": "s3oxhBSRCTkq"
      }
    },
    {
      "cell_type": "markdown",
      "source": [
        "Pearson r correlation test."
      ],
      "metadata": {
        "id": "k2WtgQoTCVRZ"
      }
    },
    {
      "cell_type": "markdown",
      "source": [
        "Why did you choose the specific statistical test?"
      ],
      "metadata": {
        "id": "Tk27yp9nCgLK"
      }
    },
    {
      "cell_type": "markdown",
      "source": [
        "To prove that positive correlation exists between X and Longitude."
      ],
      "metadata": {
        "id": "ULHkhnmzCh95"
      }
    },
    {
      "cell_type": "markdown",
      "source": [
        "# Hypothetical Statement - 2"
      ],
      "metadata": {
        "id": "uHCvuAt8Cxqx"
      }
    },
    {
      "cell_type": "markdown",
      "source": [
        "1. State Your research hypothesis as a null hypothesis and alternate hypothesis."
      ],
      "metadata": {
        "id": "Od9cSLAnC2aB"
      }
    },
    {
      "cell_type": "markdown",
      "source": [
        "Null Hypothesis: There is no correlation between Y and Latitude.\n",
        "\n",
        "Alternate Hypothesis: There is positive correlation between Y and Latitude."
      ],
      "metadata": {
        "id": "DRSphAIsC7p5"
      }
    },
    {
      "cell_type": "code",
      "source": [
        "# Perform Statistical Test to obtain P-Value\n",
        "from scipy.stats import pearsonr\n",
        "\n",
        "# Compute Pearson correlation and p-value\n",
        "corr, p_value = pearsonr(train_data[\"Y\"], train_data[\"Latitude\"])\n",
        "\n",
        "print(f\"Pearson correlation coefficient: {corr:.4f}\")\n",
        "print(f\"P-value: {p_value}\")\n",
        "\n",
        "# Interpretation\n",
        "if p_value < 0.05 and corr > 0:\n",
        "    print(\"Reject Null Hypothesis and accept Alternate hypothesis.\")\n",
        "else:\n",
        "    print(\"No evidence to reject Null Hypothesis.\")"
      ],
      "metadata": {
        "id": "iDG8TpgaDAbp"
      },
      "execution_count": null,
      "outputs": []
    },
    {
      "cell_type": "markdown",
      "source": [
        "# Hypothetical Statement - 3"
      ],
      "metadata": {
        "id": "lypF8M-ODGxh"
      }
    },
    {
      "cell_type": "markdown",
      "source": [
        "1. State Your research hypothesis as a null hypothesis and alternate hypothesis."
      ],
      "metadata": {
        "id": "t1AilxmlDP_p"
      }
    },
    {
      "cell_type": "markdown",
      "source": [
        "Null Hypothesis: There is no correlation between Latitude and Longitude.\n",
        "\n",
        "Alternate Hypothesis: There is negative correlation between Latitude and Longitude."
      ],
      "metadata": {
        "id": "s8nQPlYKDTyJ"
      }
    },
    {
      "cell_type": "code",
      "source": [
        "# Perform Statistical Test to obtain P-Value\n",
        "from scipy.stats import pearsonr\n",
        "\n",
        "# Compute Pearson correlation and p-value\n",
        "corr, p_value = pearsonr(train_data[\"Latitude\"], train_data[\"Longitude\"])\n",
        "\n",
        "print(f\"Pearson correlation coefficient: {corr:.4f}\")\n",
        "print(f\"P-value: {p_value}\")\n",
        "\n",
        "# Interpretation\n",
        "if p_value < 0.05 and corr < 0:\n",
        "    print(\"Reject Null Hypothesis and accept Alternate hypothesis.\")\n",
        "else:\n",
        "    print(\"No evidence to reject Null Hypothesis.\")"
      ],
      "metadata": {
        "id": "1WG3Yl16DWkR"
      },
      "execution_count": null,
      "outputs": []
    },
    {
      "cell_type": "markdown",
      "source": [
        "# 6. Feature Engineering for Time Series Analysis"
      ],
      "metadata": {
        "id": "_QYwwR1mCu26"
      }
    },
    {
      "cell_type": "code",
      "source": [
        "crime_monthly = train_data.groupby(pd.Grouper(key='Date', freq='M')).size().reset_index(name='crime_count')\n",
        "crime_monthly.set_index('Date', inplace=True)"
      ],
      "metadata": {
        "id": "zAF7t1zfCtuZ"
      },
      "execution_count": null,
      "outputs": []
    },
    {
      "cell_type": "code",
      "source": [
        "crime_monthly = crime_monthly.asfreq('M')\n",
        "crime_monthly"
      ],
      "metadata": {
        "id": "vX4FCn9iDg6h"
      },
      "execution_count": null,
      "outputs": []
    },
    {
      "cell_type": "markdown",
      "source": [
        "# 7. Time Series Implementation"
      ],
      "metadata": {
        "id": "q3fZFW4UDo_Q"
      }
    },
    {
      "cell_type": "markdown",
      "source": [
        "ARIMA"
      ],
      "metadata": {
        "id": "_pkxZyKNDtl5"
      }
    },
    {
      "cell_type": "code",
      "source": [
        "from statsmodels.tsa.stattools import adfuller\n",
        "\n",
        "# Perform ADF test\n",
        "adf_test = adfuller(crime_monthly['crime_count'])\n",
        "\n",
        "print(f\"ADF Statistic: {adf_test[0]}\")\n",
        "print(f\"p-value: {adf_test[1]}\")\n",
        "\n",
        "# Interpretation\n",
        "if adf_test[1] < 0.05:\n",
        "    print(\"Time series is stationary (p < 0.05). Proceed with ARIMA.\")\n",
        "else:\n",
        "    print(\"Time series is NOT stationary (p >= 0.05). Differencing is needed.\")"
      ],
      "metadata": {
        "id": "JHkQ2fOaDw65"
      },
      "execution_count": null,
      "outputs": []
    },
    {
      "cell_type": "code",
      "source": [
        "crime_monthly['crime_diff'] = crime_monthly['crime_count'].diff()\n",
        "\n",
        "# Perform ADF test again on the differenced data\n",
        "from statsmodels.tsa.stattools import adfuller\n",
        "\n",
        "adf_test_diff = adfuller(crime_monthly['crime_diff'].dropna())\n",
        "\n",
        "print(f\"ADF Statistic after differencing: {adf_test_diff[0]}\")\n",
        "print(f\"p-value after differencing: {adf_test_diff[1]}\")\n",
        "\n",
        "if adf_test_diff[1] < 0.05:\n",
        "    print(\"Time series is stationary (p < 0.05). Proceed with ARIMA.\")\n",
        "else:\n",
        "    print(\"Time series is NOT stationary (p >= 0.05). Differencing is needed.\")"
      ],
      "metadata": {
        "id": "LD7yfnDkD4GQ"
      },
      "execution_count": null,
      "outputs": []
    },
    {
      "cell_type": "code",
      "source": [
        "crime_monthly['crime_diff2'] = crime_monthly['crime_diff'].diff()\n",
        "\n",
        "# Perform ADF test again on second-order differenced data\n",
        "adf_test_diff2 = adfuller(crime_monthly['crime_diff2'].dropna())\n",
        "\n",
        "print(f\"ADF Statistic after second differencing: {adf_test_diff2[0]}\")\n",
        "print(f\"p-value after second differencing: {adf_test_diff2[1]}\")\n",
        "\n",
        "if adf_test_diff2[1] < 0.05:\n",
        "    print(\"Time series is stationary (p < 0.05). Proceed with ARIMA.\")\n",
        "else:\n",
        "    print(\"Time series is NOT stationary (p >= 0.05). Differencing is needed.\")"
      ],
      "metadata": {
        "id": "Sj4gdD2-D_dv"
      },
      "execution_count": null,
      "outputs": []
    },
    {
      "cell_type": "code",
      "source": [
        "from statsmodels.graphics.tsaplots import plot_acf, plot_pacf\n",
        "\n",
        "fig, ax = plt.subplots(1, 2, figsize=(12, 5))\n",
        "plot_acf(crime_monthly['crime_diff2'].dropna(), ax=ax[0])\n",
        "plot_pacf(crime_monthly['crime_diff2'].dropna(), ax=ax[1])\n",
        "plt.show()"
      ],
      "metadata": {
        "id": "T35nZH4zEDKQ"
      },
      "execution_count": null,
      "outputs": []
    },
    {
      "cell_type": "code",
      "source": [
        "train_size = int(len(crime_monthly) * 0.8)  # 80% train, 20% test\n",
        "train, test = crime_monthly[:train_size], crime_monthly[train_size:]\n",
        "\n",
        "print(f\"Train size: {len(train)}, Test size: {len(test)}\")"
      ],
      "metadata": {
        "id": "uP_8uEOFEH7Y"
      },
      "execution_count": null,
      "outputs": []
    },
    {
      "cell_type": "code",
      "source": [
        "from statsmodels.tsa.arima.model import ARIMA\n",
        "from sklearn.metrics import mean_absolute_error, root_mean_squared_error\n",
        "\n",
        "# Train ARIMA model on train data\n",
        "model = ARIMA(train['crime_count'], order=(1,2,1))\n",
        "results = model.fit()\n",
        "\n",
        "# Forecast for test period\n",
        "forecast = results.forecast(steps=len(test))\n",
        "\n",
        "# Evaluate model performance\n",
        "mae = mean_absolute_error(test['crime_count'], forecast)\n",
        "rmse = root_mean_squared_error(test['crime_count'], forecast)\n",
        "\n",
        "print(f\"MAE: {mae:.2f}\")\n",
        "print(f\"RMSE: {rmse:.2f}\")"
      ],
      "metadata": {
        "id": "dK5xnHSWELnh"
      },
      "execution_count": null,
      "outputs": []
    },
    {
      "cell_type": "code",
      "source": [
        "model_2 = ARIMA(train['crime_count'], order=(1,2,2))\n",
        "results_2 = model_2.fit()\n",
        "\n",
        "# Forecast for test period\n",
        "forecast = results_2.forecast(steps=len(test))\n",
        "\n",
        "# Evaluate model performance\n",
        "mae = mean_absolute_error(test['crime_count'], forecast)\n",
        "rmse = root_mean_squared_error(test['crime_count'], forecast)\n",
        "\n",
        "print(f\"MAE: {mae:.2f}\")\n",
        "print(f\"RMSE: {rmse:.2f}\")"
      ],
      "metadata": {
        "id": "YCoLeeQAES5I"
      },
      "execution_count": null,
      "outputs": []
    },
    {
      "cell_type": "code",
      "source": [
        "for p in range(1, 4):  # Try different p values\n",
        "    model = ARIMA(train['crime_count'], order=(p, 2, 2))  # Keep q=2 now\n",
        "    results = model.fit()\n",
        "\n",
        "    predictions = results.forecast(steps=len(test))\n",
        "\n",
        "    mae = mean_absolute_error(test['crime_count'], predictions)\n",
        "    rmse = np.sqrt(mean_squared_error(test['crime_count'], predictions))\n",
        "\n",
        "    print(f\"p={p} → MAE: {mae:.2f}, RMSE: {rmse:.2f}, AIC: {results.aic:.2f}\")"
      ],
      "metadata": {
        "id": "exSXtG_lEWtQ"
      },
      "execution_count": null,
      "outputs": []
    },
    {
      "cell_type": "markdown",
      "source": [
        "p = 1, d = 2 and q = 2 are the optimal parameter choice. Now we retrain the model on the entire dataset and predict the number for crimes for next 12 months"
      ],
      "metadata": {
        "id": "V3BitM1oEc2Q"
      }
    },
    {
      "cell_type": "code",
      "source": [
        "# Train ARIMA(1,2,2) on the full dataset\n",
        "final_model = ARIMA(crime_monthly['crime_count'], order=(1,2,2))\n",
        "final_model_fit = final_model.fit()\n",
        "\n",
        "# Forecast future values (e.g., next 12 months)\n",
        "forecast_steps = 12  # Adjust as needed\n",
        "future_forecast = final_model_fit.forecast(steps=forecast_steps)\n",
        "future_forecast = future_forecast.round().astype(int)\n",
        "\n",
        "# Display forecasted values\n",
        "print(future_forecast)"
      ],
      "metadata": {
        "id": "Lwu7q-BgEfWI"
      },
      "execution_count": null,
      "outputs": []
    },
    {
      "cell_type": "code",
      "source": [
        "future_dates = pd.date_range(start=crime_monthly.index[-1],\n",
        "                             periods=forecast_steps + 1,\n",
        "                             freq='M')[1:]"
      ],
      "metadata": {
        "id": "ta7WFRojEiYQ"
      },
      "execution_count": null,
      "outputs": []
    },
    {
      "cell_type": "markdown",
      "source": [
        "**Let's visualise the future predictions.**"
      ],
      "metadata": {
        "id": "iE62u_vqElYQ"
      }
    },
    {
      "cell_type": "code",
      "source": [
        "pred = final_model_fit.get_forecast(steps=forecast_steps)\n",
        "pred_ci = pred.conf_int()\n",
        "\n",
        "plt.figure(figsize=(10, 5))\n",
        "plt.plot(crime_monthly['crime_count'], label='Historical Crime Data', color='blue')\n",
        "plt.plot(future_forecast, label='Forecasted Crime Count', color='red', linestyle='dashed')\n",
        "plt.fill_between(future_dates, pred_ci.iloc[:, 0], pred_ci.iloc[:, 1], color='pink', alpha=0.3)\n",
        "plt.xlabel(\"Year\")\n",
        "plt.ylabel(\"Crime Count\")\n",
        "plt.title(\"Crime Forecast with Confidence Intervals\")\n",
        "plt.legend()\n",
        "plt.show()"
      ],
      "metadata": {
        "id": "90G9HZA1Eovw"
      },
      "execution_count": null,
      "outputs": []
    },
    {
      "cell_type": "markdown",
      "source": [
        "The forecast seems to be heading in the right direction, but the confidence interval looks too wide, and not much volatility is seen in the future unlike in the past data. Let's try SARIMA that includes seasonal variations."
      ],
      "metadata": {
        "id": "2PBr19hvEtOw"
      }
    },
    {
      "cell_type": "markdown",
      "source": [
        "# SARIMAX"
      ],
      "metadata": {
        "id": "O6HyHYzdEvnA"
      }
    },
    {
      "cell_type": "code",
      "source": [
        "from statsmodels.tsa.statespace.sarimax import SARIMAX\n",
        "\n",
        "model = SARIMAX(train['crime_count'],\n",
        "                order=(1,2,2),\n",
        "                seasonal_order=(1,1,1,12))\n",
        "results = model.fit()"
      ],
      "metadata": {
        "id": "AhVrw6W4Eysf"
      },
      "execution_count": null,
      "outputs": []
    },
    {
      "cell_type": "code",
      "source": [
        "forecast = results.forecast(steps=len(test))\n",
        "\n",
        "# Evaluate model performance\n",
        "mae = mean_absolute_error(test['crime_count'], forecast)\n",
        "rmse = root_mean_squared_error(test['crime_count'], forecast)\n",
        "\n",
        "print(f\"MAE: {mae:.2f}\")\n",
        "print(f\"RMSE: {rmse:.2f}\")"
      ],
      "metadata": {
        "id": "gOYEHsgzE3N_"
      },
      "execution_count": null,
      "outputs": []
    },
    {
      "cell_type": "code",
      "source": [
        "# Extract residuals from SARIMA model\n",
        "residuals = results.resid\n",
        "plt.figure(figsize=(10, 4))\n",
        "plt.plot(residuals, label=\"Residuals\", color=\"blue\")\n",
        "plt.axhline(y=0, linestyle=\"--\", color=\"black\")\n",
        "plt.title(\"Residuals Over Time\")\n",
        "plt.legend()\n",
        "plt.show()"
      ],
      "metadata": {
        "id": "dxV61gh5E6Z3"
      },
      "execution_count": null,
      "outputs": []
    },
    {
      "cell_type": "code",
      "source": [
        "from statsmodels.stats.diagnostic import acorr_ljungbox\n",
        "\n",
        "ljung_box_test = acorr_ljungbox(residuals, lags=[10], return_df=True)\n",
        "print(ljung_box_test)"
      ],
      "metadata": {
        "id": "dSlUTz8yE8q3"
      },
      "execution_count": null,
      "outputs": []
    },
    {
      "cell_type": "markdown",
      "source": [
        "Ljung-Box test p-value is very small (3.93e-07), which suggests that your residuals are not white noise. This means that SARIMA model still has some autocorrelation left in the residuals, indicating that the model might not have captured all the patterns in the data. Let's perform hyperparameter tuning to check for best parameter values."
      ],
      "metadata": {
        "id": "GQ1ljr15E_yn"
      }
    },
    {
      "cell_type": "code",
      "source": [
        "import itertools\n",
        "import statsmodels.api as sm\n",
        "\n",
        "# Define parameter ranges\n",
        "p = d = q = range(0, 3)  # Choose small ranges initially\n",
        "P = D = Q = range(0, 2)\n",
        "s = [12]  # Seasonality (adjust as per your dataset)\n",
        "\n",
        "# Generate all combinations of parameters\n",
        "param_combinations = list(itertools.product(p, d, q, P, D, Q, s))\n",
        "\n",
        "best_aic = np.inf  # Set best AIC to infinity initially\n",
        "best_params = None\n",
        "\n",
        "# Grid search over all parameter combinations\n",
        "for params in param_combinations:\n",
        "    try:\n",
        "        model = sm.tsa.statespace.SARIMAX(train['crime_count'],\n",
        "                                          order=params[:3],\n",
        "                                          seasonal_order=params[3:],\n",
        "                                          enforce_stationarity=False,\n",
        "                                          enforce_invertibility=False)\n",
        "        results = model.fit(disp=False)\n",
        "        if results.aic < best_aic:\n",
        "            best_aic = results.aic\n",
        "            best_params = params\n",
        "    except:\n",
        "        continue  # Skip models that fail to converge\n",
        "\n",
        "print(f\"Best SARIMAX parameters: {best_params} with AIC: {best_aic}\")"
      ],
      "metadata": {
        "id": "yfNuZ8GiFDXv"
      },
      "execution_count": null,
      "outputs": []
    },
    {
      "cell_type": "code",
      "source": [
        "# Import the required library\n",
        "import statsmodels.api as sm\n",
        "\n",
        "# Train the model with the best parameters\n",
        "best_model = sm.tsa.statespace.SARIMAX(train['crime_count'],\n",
        "                                       order=(1, 2, 2),\n",
        "                                       seasonal_order=(0, 1, 1, 12),\n",
        "                                       enforce_stationarity=False,\n",
        "                                       enforce_invertibility=False)\n",
        "\n",
        "best_results = best_model.fit(disp=False)\n",
        "print(best_results.summary())"
      ],
      "metadata": {
        "id": "cYhSYK7kFInP"
      },
      "execution_count": null,
      "outputs": []
    },
    {
      "cell_type": "code",
      "source": [
        "import matplotlib.pyplot as plt\n",
        "\n",
        "best_results.plot_diagnostics(figsize=(12, 8))\n",
        "plt.tight_layout()\n",
        "plt.show()"
      ],
      "metadata": {
        "id": "XcAw8PlcFMaK"
      },
      "execution_count": null,
      "outputs": []
    },
    {
      "cell_type": "markdown",
      "source": [
        "The residuals are normally distributed and the correlogram suggests that the residuals are close to zero suggesting no correlation."
      ],
      "metadata": {
        "id": "NMEpu8i6FXVP"
      }
    },
    {
      "cell_type": "code",
      "source": [
        "test_predictions = best_results.get_forecast(steps=len(test))\n",
        "predicted_values = test_predictions.predicted_mean\n",
        "\n",
        "mae = mean_absolute_error(test['crime_count'], predicted_values)\n",
        "rmse = np.sqrt(mean_squared_error(test['crime_count'], predicted_values))\n",
        "\n",
        "print(f\"MAE: {mae:.2f}\")\n",
        "print(f\"RMSE: {rmse:.2f}\")"
      ],
      "metadata": {
        "id": "g0jR28UOFdRf"
      },
      "execution_count": null,
      "outputs": []
    },
    {
      "cell_type": "code",
      "source": [
        "# Re-train the final model\n",
        "final_model = SARIMAX(crime_monthly['crime_count'],\n",
        "                       order=(1, 2, 2),\n",
        "                       seasonal_order=(0, 1, 1, 12))\n",
        "final_results = final_model.fit()"
      ],
      "metadata": {
        "id": "NQLPRfXqFf2o"
      },
      "execution_count": null,
      "outputs": []
    },
    {
      "cell_type": "code",
      "source": [
        "forecast_steps = 24\n",
        "future_forecast = final_results.forecast(steps=forecast_steps)\n",
        "future_dates = pd.date_range(start=crime_monthly.index[-1],\n",
        "                             periods=forecast_steps + 1,\n",
        "                             freq='M')[1:]\n",
        "\n",
        "future_forecast = pd.Series(future_forecast, index=future_dates)\n",
        "future_forecast = future_forecast.round().astype(int)\n",
        "future_forecast\n"
      ],
      "metadata": {
        "id": "NtE7bjjVFifo"
      },
      "execution_count": null,
      "outputs": []
    },
    {
      "cell_type": "code",
      "source": [
        "pred = final_results.get_forecast(steps=forecast_steps)\n",
        "pred_ci = pred.conf_int()\n",
        "\n",
        "plt.figure(figsize=(10, 5))\n",
        "plt.plot(crime_monthly['crime_count'], label='Historical Crime Data', color='blue')\n",
        "plt.plot(future_forecast, label='Forecasted Crime Count', color='red', linestyle='dashed')\n",
        "plt.fill_between(future_dates, pred_ci.iloc[:, 0], pred_ci.iloc[:, 1], color='pink', alpha=0.3)\n",
        "plt.xlabel(\"Year\")\n",
        "plt.ylabel(\"Crime Count\")\n",
        "plt.title(\"Crime Forecast with Confidence Intervals\")\n",
        "plt.legend()\n",
        "plt.show()"
      ],
      "metadata": {
        "id": "Zz7bc65XFoPf"
      },
      "execution_count": null,
      "outputs": []
    },
    {
      "cell_type": "markdown",
      "source": [
        "The SARIMAX has made the predictions on the future data well compared to ARIMA as we included the seasonal variations. This model can be used to predict number crime in the future."
      ],
      "metadata": {
        "id": "rY96Wui9Fqxv"
      }
    },
    {
      "cell_type": "markdown",
      "source": [
        "# 8. Feature Engineering for ML implementation"
      ],
      "metadata": {
        "id": "yh1970CmFtK3"
      }
    },
    {
      "cell_type": "code",
      "source": [
        "# Compute number of crimes based on crime type, latitude, longitude, hour, minute, year, month\n",
        "crime_per_mon = train_data.groupby(['YEAR','MONTH', 'TYPE', 'Latitude', 'Longitude']).size().reset_index(name='Crime_Count')"
      ],
      "metadata": {
        "id": "N4Df-OvkFwG3"
      },
      "execution_count": null,
      "outputs": []
    },
    {
      "cell_type": "code",
      "source": [
        "# Extract hour and minute statistics\n",
        "crime_time_stats = train_data.groupby(['YEAR','MONTH', 'TYPE', 'Latitude', 'Longitude']) \\\n",
        "    .agg(\n",
        "        Peak_Hour=('HOUR', lambda x: x.mode()[0] if not x.mode().empty else np.nan),\n",
        "        Peak_Minute=('MINUTE', lambda x: x.mode()[0] if not x.mode().empty else np.nan)\n",
        "    ).reset_index()"
      ],
      "metadata": {
        "id": "GqojjPidF3rn"
      },
      "execution_count": null,
      "outputs": []
    },
    {
      "cell_type": "code",
      "source": [
        "crime_per_mon = crime_per_mon.merge(crime_time_stats,on=['YEAR','MONTH', 'TYPE', 'Latitude', 'Longitude'],how='inner')"
      ],
      "metadata": {
        "id": "M86-QN34F8wP"
      },
      "execution_count": null,
      "outputs": []
    },
    {
      "cell_type": "code",
      "source": [
        "crime_per_mon = pd.get_dummies(crime_per_mon,columns=['TYPE'],dtype='int')\n",
        "X = crime_per_mon.drop('Crime_Count',axis=1)\n",
        "Y = crime_per_mon['Crime_Count']"
      ],
      "metadata": {
        "id": "17OdClIcF_xf"
      },
      "execution_count": null,
      "outputs": []
    },
    {
      "cell_type": "code",
      "source": [
        "from sklearn.preprocessing import StandardScaler\n",
        "crime_sc = StandardScaler()\n",
        "X_sc = crime_sc.fit_transform(X)"
      ],
      "metadata": {
        "id": "7KevCB79GC-3"
      },
      "execution_count": null,
      "outputs": []
    },
    {
      "cell_type": "code",
      "source": [
        "X_sc = pd.DataFrame(X_sc,columns=X.columns)"
      ],
      "metadata": {
        "id": "m45Rnm01HMhe"
      },
      "execution_count": null,
      "outputs": []
    },
    {
      "cell_type": "code",
      "source": [
        "from sklearn.model_selection import train_test_split\n",
        "X_train,X_test,Y_train,Y_test = train_test_split(X_sc,Y,test_size=0.2,random_state=28)\n"
      ],
      "metadata": {
        "id": "KMGlIQnpHctG"
      },
      "execution_count": null,
      "outputs": []
    },
    {
      "cell_type": "markdown",
      "source": [
        "# ML Model - 1"
      ],
      "metadata": {
        "id": "Ms9Tq_jPGQ3G"
      }
    },
    {
      "cell_type": "markdown",
      "source": [
        "1. Cross- Validation & Hyperparameter Tuning"
      ],
      "metadata": {
        "id": "Mi9woae-GdnQ"
      }
    },
    {
      "cell_type": "code",
      "source": [
        "# ML Model - 1 Implementation\n",
        "from xgboost import XGBRegressor\n",
        "from sklearn.metrics import root_mean_squared_error, r2_score\n",
        "# Fit the Algorithm\n",
        "XGB = XGBRegressor(objective='reg:squarederror')\n",
        "XGB.fit(X_train,Y_train)\n",
        "# Predict on the model\n",
        "Y_pred = XGB.predict(X_test)\n",
        "rmse = root_mean_squared_error(Y_test,Y_pred)\n",
        "r2 = r2_score(Y_test,Y_pred)\n",
        "print(\"RMSE error:\",rmse)\n",
        "print(\"R2 score:\",r2)"
      ],
      "metadata": {
        "id": "IJWEe55ZIpS8"
      },
      "execution_count": null,
      "outputs": []
    },
    {
      "cell_type": "code",
      "source": [
        "best_xgb = grid_search.best_estimator_\n",
        "Y_pred = best_xgb.predict(X_test)\n",
        "from sklearn.metrics import mean_squared_error, r2_score\n",
        "rmse = np.sqrt(mean_squared_error(Y_test,Y_pred))\n",
        "r2  = r2_score(Y_test,Y_pred)\n",
        "print(\"RMSE error:\",rmse)\n",
        "print(\"R2 score:\",r2)"
      ],
      "metadata": {
        "id": "ieUHYSDxGs-u"
      },
      "execution_count": null,
      "outputs": []
    },
    {
      "cell_type": "code",
      "source": [
        "# ML Model - 1 Implementation with hyperparameter optimization techniques (i.e., GridSearch CV, RandomSearch CV, Bayesian Optimization etc.)\n",
        "from sklearn.model_selection import GridSearchCV\n",
        "XGB = XGBRegressor(objective='reg:squarederror')\n",
        "\n",
        "# Define the parameter grid\n",
        "param_grid = {\n",
        "    'n_estimators': [100, 200, 500],\n",
        "    'learning_rate': [0.01, 0.05, 0.1, 0.2],\n",
        "    'max_depth': [3, 6, 10],\n",
        "    'min_child_weight': [1, 5, 10],\n",
        "    'subsample': [0.7, 0.8, 1.0],\n",
        "    'colsample_bytree': [0.6, 0.8, 1.0],\n",
        "    'gamma': [0, 0.1, 0.2]\n",
        "}\n",
        "# Grid Search with Cross-Validation\n",
        "grid_search = GridSearchCV(estimator=XGB, param_grid=param_grid,\n",
        "                           scoring='neg_root_mean_squared_error',\n",
        "                           cv=5, n_jobs=-1, verbose=2)\n",
        "\n",
        "# Fit the model\n",
        "grid_search.fit(X_train, Y_train)\n",
        "\n",
        "# Print the best parameters and score\n",
        "print(\"Best parameters:\", grid_search.best_params_)\n",
        "print(\"Best RMSE:\", -grid_search.best_score_)"
      ],
      "metadata": {
        "id": "z7C8VpIcIsg8"
      },
      "execution_count": null,
      "outputs": []
    },
    {
      "cell_type": "code",
      "source": [
        "best_xgb = grid_search.best_estimator_\n",
        "Y_pred = best_xgb.predict(X_test)\n",
        "from sklearn.metrics import mean_squared_error, r2_score\n",
        "rmse = np.sqrt(mean_squared_error(Y_test,Y_pred))\n",
        "r2  = r2_score(Y_test,Y_pred)\n",
        "print(\"RMSE error:\",rmse)\n",
        "print(\"R2 score:\",r2)"
      ],
      "metadata": {
        "id": "NPJjNaCMIwZ0"
      },
      "execution_count": null,
      "outputs": []
    },
    {
      "cell_type": "markdown",
      "source": [
        "Which hyperparameter optimization technique have you used and why?"
      ],
      "metadata": {
        "id": "8gfbKZdWIz4z"
      }
    },
    {
      "cell_type": "markdown",
      "source": [
        "Grid search CV because it considers all possible combinations."
      ],
      "metadata": {
        "id": "JFinXPCYI2ZU"
      }
    },
    {
      "cell_type": "markdown",
      "source": [
        "Have you seen any improvement? Note down the improvement with updates Evaluation metric Score Chart."
      ],
      "metadata": {
        "id": "3QaJbGKDI6wt"
      }
    },
    {
      "cell_type": "markdown",
      "source": [
        "Yes, the rmse error has slightly reduced and r2 score has slightly increased."
      ],
      "metadata": {
        "id": "227T-_NOI9Dc"
      }
    },
    {
      "cell_type": "markdown",
      "source": [
        "# ML_MODEL-2"
      ],
      "metadata": {
        "id": "oRoT8AGoJUrF"
      }
    },
    {
      "cell_type": "code",
      "source": [
        "from sklearn.ensemble import RandomForestRegressor\n",
        "\n",
        "rf = RandomForestRegressor()\n",
        "\n",
        "rf.fit(X_train,Y_train)\n",
        "\n",
        "Y_pred = rf.predict(X_test)\n",
        "rmse = np.sqrt(mean_squared_error(Y_test,Y_pred))\n",
        "r2 = r2_score(Y_test,Y_pred)\n",
        "print(\"RMSE error:\",rmse)\n",
        "print(\"R2 score:\",r2)"
      ],
      "metadata": {
        "id": "vd2B7F6bJZ68"
      },
      "execution_count": null,
      "outputs": []
    },
    {
      "cell_type": "markdown",
      "source": [
        "1. Cross- Validation & Hyperparameter Tuning"
      ],
      "metadata": {
        "id": "_z_M51j-JcWz"
      }
    },
    {
      "cell_type": "code",
      "source": [
        "import optuna\n",
        "from sklearn.ensemble import RandomForestRegressor\n",
        "\n",
        "# Define the objective function for Optuna\n",
        "def objective(trial):\n",
        "    # Suggest values for hyperparameters based on your param_grid\n",
        "    n_estimators = trial.suggest_categorical('n_estimators', [100, 200, 300])  # Number of trees\n",
        "    max_depth = trial.suggest_categorical('max_depth', [10, 20, 30])  # Tree depth\n",
        "    min_samples_split = trial.suggest_categorical('min_samples_split', [2, 5, 10, 20])  # Min samples to split\n",
        "    min_samples_leaf = trial.suggest_categorical('min_samples_leaf', [1, 2, 4, 10])  # Min samples at leaf\n",
        "    max_features = trial.suggest_categorical('max_features', ['sqrt', 'log2'])  # Features per split\n",
        "\n",
        "    # Create the model with these hyperparameters\n",
        "    model = RandomForestRegressor(\n",
        "        n_estimators=n_estimators,\n",
        "        max_depth=max_depth,\n",
        "        min_samples_split=min_samples_split,\n",
        "        min_samples_leaf=min_samples_leaf,\n",
        "        max_features=max_features,\n",
        "        random_state=42,\n",
        "        n_jobs = -1\n",
        "    )\n",
        "\n",
        "    # Fit the model and predict\n",
        "    model.fit(X_train, Y_train)\n",
        "    Y_pred = model.predict(X_test)\n",
        "\n",
        "    # Calculate RMSE\n",
        "    r2 = r2_score(Y_test, Y_pred)\n",
        "\n",
        "    return r2\n",
        "\n",
        "# Create a study object and optimize the hyperparameters using Optuna\n",
        "study = optuna.create_study(direction='maximize')  # Maximize R2\n",
        "study.optimize(objective, n_trials=50)  # Try 50 different combinations\n",
        "\n",
        "# Get the best hyperparameters\n",
        "print(f\"Best Hyperparameters: {study.best_params}\")"
      ],
      "metadata": {
        "id": "RulHpTZMJgbE"
      },
      "execution_count": null,
      "outputs": []
    },
    {
      "cell_type": "code",
      "source": [
        "# Train the final model with the best hyperparameters\n",
        "best_params = study.best_params\n",
        "final_model = RandomForestRegressor(**best_params)\n",
        "final_model.fit(X_train, Y_train)\n",
        "\n",
        "# Predict and evaluate the final model\n",
        "Y_pred = final_model.predict(X_test)\n",
        "final_rmse = np.sqrt(mean_squared_error(Y_test, Y_pred))\n",
        "final_r2 = r2_score(Y_test,Y_pred)\n",
        "\n",
        "print(f\"Final RMSE: {final_rmse}\")\n",
        "print(f\"Final R2: {final_r2}\")"
      ],
      "metadata": {
        "id": "qJa0F8jAJjKN"
      },
      "execution_count": null,
      "outputs": []
    },
    {
      "cell_type": "markdown",
      "source": [
        "Which hyperparameter optimization technique have you used and why?"
      ],
      "metadata": {
        "id": "TvWVjKq5JmOL"
      }
    },
    {
      "cell_type": "markdown",
      "source": [
        "Optuna as it considers the test data for optimization."
      ],
      "metadata": {
        "id": "yZmyGvBUJoWU"
      }
    },
    {
      "cell_type": "markdown",
      "source": [
        "Have you seen any improvement? Note down the improvement with updates Evaluation metric Score Chart."
      ],
      "metadata": {
        "id": "VGv58zdKJqr8"
      }
    },
    {
      "cell_type": "markdown",
      "source": [
        "Hyperparameter tuning didn't improve the model performance. The RMSE is higher and R2 score is lower."
      ],
      "metadata": {
        "id": "2D01Yl4lJtYc"
      }
    },
    {
      "cell_type": "markdown",
      "source": [
        "**Predict number of crimes per month on the unknown dataset**"
      ],
      "metadata": {
        "id": "rHYbNNkNJwYr"
      }
    },
    {
      "cell_type": "code",
      "source": [
        "test_crimes = pd.read_csv('Test_fbi.csv')"
      ],
      "metadata": {
        "id": "WnAFuwUfJz7b"
      },
      "execution_count": null,
      "outputs": []
    },
    {
      "cell_type": "code",
      "source": [
        "test_crimes = test_crimes.sort_values(by=[\"YEAR\",'MONTH'])"
      ],
      "metadata": {
        "id": "2r5xQBaAJ0f1"
      },
      "execution_count": null,
      "outputs": []
    },
    {
      "cell_type": "code",
      "source": [
        "train_crimes = train_data.groupby(['YEAR','MONTH','TYPE']).agg(Count=(\"TYPE\",'count'))\n",
        "train_crimes.reset_index(inplace=True)"
      ],
      "metadata": {
        "id": "DzNk9j0bJ2as"
      },
      "execution_count": null,
      "outputs": []
    },
    {
      "cell_type": "code",
      "source": [
        "test_crimes.drop('Incident_Counts',axis=1,inplace=True)"
      ],
      "metadata": {
        "id": "J7krqc8EKlmq"
      },
      "execution_count": null,
      "outputs": []
    },
    {
      "cell_type": "code",
      "source": [
        "X_tr_new = train_crimes.drop('Count',axis=1)\n",
        "Y_tr_new = train_crimes['Count']"
      ],
      "metadata": {
        "id": "zJ--ItpWKmaT"
      },
      "execution_count": null,
      "outputs": []
    },
    {
      "cell_type": "code",
      "source": [
        "test_crimes = test_crimes[test_crimes['TYPE']!='Offence Against a Person']"
      ],
      "metadata": {
        "id": "ig_VrVnzKpIC"
      },
      "execution_count": null,
      "outputs": []
    },
    {
      "cell_type": "code",
      "source": [
        "X_tr_new = pd.get_dummies(X_tr_new,columns=['TYPE'],dtype='int')"
      ],
      "metadata": {
        "id": "mQFcwrxoKsLj"
      },
      "execution_count": null,
      "outputs": []
    },
    {
      "cell_type": "code",
      "source": [
        "X_tr_new_sc = crime_sc.fit_transform(X_tr_new)"
      ],
      "metadata": {
        "id": "_36P1r7fKui7"
      },
      "execution_count": null,
      "outputs": []
    },
    {
      "cell_type": "code",
      "source": [
        "test_crimes_dum = pd.get_dummies(test_crimes,columns=['TYPE'],dtype='int')"
      ],
      "metadata": {
        "id": "M5ciV2eiKwaL"
      },
      "execution_count": null,
      "outputs": []
    },
    {
      "cell_type": "code",
      "source": [
        "test_crimes_sc = crime_sc.transform(test_crimes_dum)"
      ],
      "metadata": {
        "id": "3EsNmsTMKyPz"
      },
      "execution_count": null,
      "outputs": []
    },
    {
      "cell_type": "code",
      "source": [
        "# Re-train the random forest on the new dataset\n",
        "rf.fit(X_tr_new_sc,Y_tr_new)"
      ],
      "metadata": {
        "id": "dWpPGFc3K0lF"
      },
      "execution_count": null,
      "outputs": []
    },
    {
      "cell_type": "code",
      "source": [
        "crimes_pred = rf.predict(test_crimes_sc)"
      ],
      "metadata": {
        "id": "bNuL02yDK2Vk"
      },
      "execution_count": null,
      "outputs": []
    },
    {
      "cell_type": "code",
      "source": [
        "test_crimes['Incident_Counts'] = [int(x) for x in crimes_pred]"
      ],
      "metadata": {
        "id": "_Mf270wvK4vS"
      },
      "execution_count": null,
      "outputs": []
    },
    {
      "cell_type": "code",
      "source": [
        "test_crimes"
      ],
      "metadata": {
        "id": "Mfm_U4foK6ir"
      },
      "execution_count": null,
      "outputs": []
    },
    {
      "cell_type": "code",
      "source": [
        "# Total number of crimes in a month\n",
        "crime_per_mon = test_crimes.groupby(['YEAR','MONTH']).agg(Crimes=('Incident_Counts','sum'))\n",
        "crime_per_mon"
      ],
      "metadata": {
        "id": "FR1uyQs9K-Db"
      },
      "execution_count": null,
      "outputs": []
    },
    {
      "cell_type": "markdown",
      "source": [
        "# **Conclusion**"
      ],
      "metadata": {
        "id": "gCX9965dhzqZ"
      }
    },
    {
      "cell_type": "markdown",
      "source": [
        "Write the conclusion here."
      ],
      "metadata": {
        "id": "Fjb1IsQkh3yE"
      }
    },
    {
      "cell_type": "markdown",
      "source": [
        "### ***Hurrah! You have successfully completed your Machine Learning Capstone Project !!!***"
      ],
      "metadata": {
        "id": "gIfDvo9L0UH2"
      }
    }
  ]
}